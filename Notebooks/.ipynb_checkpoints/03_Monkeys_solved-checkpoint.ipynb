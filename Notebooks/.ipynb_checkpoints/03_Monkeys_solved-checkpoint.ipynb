{
 "cells": [
  {
   "cell_type": "code",
   "execution_count": 2,
   "metadata": {
    "collapsed": true
   },
   "outputs": [],
   "source": [
    "%matplotlib inline\n",
    "import matplotlib.pyplot as plt\n",
    "import numpy as np\n",
    "import pandas as pd"
   ]
  },
  {
   "cell_type": "markdown",
   "metadata": {},
   "source": [
    "# Trained Monkeys\n",
    "\n",
    "Keywords: linear regression, nonparametric regression\n",
    "\n",
    "## Description\n",
    "\n",
    "Some handicapped people have access to trained monkey helpers that can perform household tasks like switching things on and off. This data set gives the number of tasks each of nine monkeys can perform along with the number of years the monkeys have been working with handicapped people.\n",
    "\n",
    "Variable: Description\n",
    "Name: Name of monkey\n",
    "Years: Number of years the monkey has worked with handicapped people\n",
    "Tasks: Number of tasks the monkey can perform\n",
    "\n",
    "## Source\n",
    "\n",
    "Journal of Rehabilitation Research and Development 28, No.2, Spring 1991, pages 91-96.\n",
    "\n",
    "## Hypothesis\n",
    "\n",
    "The number of years that a monkey has worked is a predictor for the number of tasks that the monkey can perform\n"
   ]
  },
  {
   "cell_type": "code",
   "execution_count": 6,
   "metadata": {
    "nbgrader": {
     "grade": false,
     "grade_id": "cell-343a41690b159bfb",
     "locked": false,
     "schema_version": 1,
     "solution": true
    }
   },
   "outputs": [
    {
     "data": {
      "text/html": [
       "<div>\n",
       "<style>\n",
       "    .dataframe thead tr:only-child th {\n",
       "        text-align: right;\n",
       "    }\n",
       "\n",
       "    .dataframe thead th {\n",
       "        text-align: left;\n",
       "    }\n",
       "\n",
       "    .dataframe tbody tr th {\n",
       "        vertical-align: top;\n",
       "    }\n",
       "</style>\n",
       "<table border=\"1\" class=\"dataframe\">\n",
       "  <thead>\n",
       "    <tr style=\"text-align: right;\">\n",
       "      <th></th>\n",
       "      <th>zip code</th>\n",
       "      <th>size rank</th>\n",
       "      <th>price</th>\n",
       "      <th>bedroom</th>\n",
       "      <th>Nielson household rank</th>\n",
       "      <th>hotness rank</th>\n",
       "      <th>supply score</th>\n",
       "      <th>demand score</th>\n",
       "      <th>median days on market</th>\n",
       "    </tr>\n",
       "  </thead>\n",
       "  <tbody>\n",
       "    <tr>\n",
       "      <th>0</th>\n",
       "      <td>66062</td>\n",
       "      <td>57</td>\n",
       "      <td>243300</td>\n",
       "      <td>2</td>\n",
       "      <td>74</td>\n",
       "      <td>574</td>\n",
       "      <td>90.94160</td>\n",
       "      <td>95.15714</td>\n",
       "      <td>29</td>\n",
       "    </tr>\n",
       "    <tr>\n",
       "      <th>1</th>\n",
       "      <td>66062</td>\n",
       "      <td>59</td>\n",
       "      <td>347300</td>\n",
       "      <td>5</td>\n",
       "      <td>74</td>\n",
       "      <td>574</td>\n",
       "      <td>90.94160</td>\n",
       "      <td>95.15714</td>\n",
       "      <td>29</td>\n",
       "    </tr>\n",
       "    <tr>\n",
       "      <th>2</th>\n",
       "      <td>66062</td>\n",
       "      <td>68</td>\n",
       "      <td>277600</td>\n",
       "      <td>4</td>\n",
       "      <td>74</td>\n",
       "      <td>574</td>\n",
       "      <td>90.94160</td>\n",
       "      <td>95.15714</td>\n",
       "      <td>29</td>\n",
       "    </tr>\n",
       "    <tr>\n",
       "      <th>3</th>\n",
       "      <td>66062</td>\n",
       "      <td>69</td>\n",
       "      <td>215500</td>\n",
       "      <td>3</td>\n",
       "      <td>74</td>\n",
       "      <td>574</td>\n",
       "      <td>90.94160</td>\n",
       "      <td>95.15714</td>\n",
       "      <td>29</td>\n",
       "    </tr>\n",
       "    <tr>\n",
       "      <th>4</th>\n",
       "      <td>66061</td>\n",
       "      <td>256</td>\n",
       "      <td>125200</td>\n",
       "      <td>2</td>\n",
       "      <td>398</td>\n",
       "      <td>5683</td>\n",
       "      <td>50.86883</td>\n",
       "      <td>73.84731</td>\n",
       "      <td>58</td>\n",
       "    </tr>\n",
       "  </tbody>\n",
       "</table>\n",
       "</div>"
      ],
      "text/plain": [
       "   zip code  size rank   price  bedroom  Nielson household rank  hotness rank  \\\n",
       "0     66062         57  243300        2                      74           574   \n",
       "1     66062         59  347300        5                      74           574   \n",
       "2     66062         68  277600        4                      74           574   \n",
       "3     66062         69  215500        3                      74           574   \n",
       "4     66061        256  125200        2                     398          5683   \n",
       "\n",
       "   supply score  demand score  median days on market  \n",
       "0      90.94160      95.15714                     29  \n",
       "1      90.94160      95.15714                     29  \n",
       "2      90.94160      95.15714                     29  \n",
       "3      90.94160      95.15714                     29  \n",
       "4      50.86883      73.84731                     58  "
      ]
     },
     "execution_count": 6,
     "metadata": {},
     "output_type": "execute_result"
    }
   ],
   "source": [
    "# Read the csv file into a pandas DataFrame\n",
    "data = pd.read_csv('../data/zillow_realtor_homes_201804.csv')\n",
    "data.head()\n"
   ]
  },
  {
   "cell_type": "code",
   "execution_count": 43,
   "metadata": {},
   "outputs": [
    {
     "name": "stdout",
     "output_type": "stream",
     "text": [
      "Shape:  (354, 1) (354, 1)\n"
     ]
    },
    {
     "data": {
      "text/plain": [
       "array([[  574],\n",
       "       [  574],\n",
       "       [  574],\n",
       "       [  574],\n",
       "       [ 5683],\n",
       "       [ 5683],\n",
       "       [ 5683],\n",
       "       [ 5683],\n",
       "       [  613],\n",
       "       [  613],\n",
       "       [  613],\n",
       "       [ 2116],\n",
       "       [  523],\n",
       "       [ 1023],\n",
       "       [ 1023],\n",
       "       [ 1299],\n",
       "       [ 1023],\n",
       "       [ 1299],\n",
       "       [ 1023],\n",
       "       [ 5836],\n",
       "       [ 2925],\n",
       "       [ 6735],\n",
       "       [  208],\n",
       "       [ 1299],\n",
       "       [ 1299],\n",
       "       [  208],\n",
       "       [ 5604],\n",
       "       [ 5604],\n",
       "       [  208],\n",
       "       [ 8089],\n",
       "       [  208],\n",
       "       [ 1062],\n",
       "       [ 2664],\n",
       "       [ 5604],\n",
       "       [ 5604],\n",
       "       [ 1062],\n",
       "       [ 2116],\n",
       "       [  523],\n",
       "       [ 1062],\n",
       "       [ 1312],\n",
       "       [ 1062],\n",
       "       [ 1182],\n",
       "       [ 2116],\n",
       "       [  523],\n",
       "       [ 1312],\n",
       "       [ 1984],\n",
       "       [ 2929],\n",
       "       [ 2116],\n",
       "       [  523],\n",
       "       [ 2116],\n",
       "       [ 1984],\n",
       "       [  523],\n",
       "       [ 2088],\n",
       "       [ 1312],\n",
       "       [ 1182],\n",
       "       [ 1312],\n",
       "       [ 1399],\n",
       "       [  134],\n",
       "       [ 1182],\n",
       "       [ 2341],\n",
       "       [ 2929],\n",
       "       [ 4850],\n",
       "       [ 5256],\n",
       "       [ 2088],\n",
       "       [ 3281],\n",
       "       [ 1984],\n",
       "       [ 1399],\n",
       "       [  134],\n",
       "       [ 1984],\n",
       "       [ 2341],\n",
       "       [ 4850],\n",
       "       [ 2130],\n",
       "       [ 2929],\n",
       "       [ 8958],\n",
       "       [ 1350],\n",
       "       [ 1414],\n",
       "       [ 2929],\n",
       "       [ 6735],\n",
       "       [ 2088],\n",
       "       [ 3281],\n",
       "       [  421],\n",
       "       [ 2780],\n",
       "       [ 2088],\n",
       "       [ 1399],\n",
       "       [  134],\n",
       "       [ 2341],\n",
       "       [ 3055],\n",
       "       [ 1399],\n",
       "       [ 4850],\n",
       "       [ 9405],\n",
       "       [ 5836],\n",
       "       [  134],\n",
       "       [ 2341],\n",
       "       [ 2340],\n",
       "       [   39],\n",
       "       [ 4850],\n",
       "       [ 2130],\n",
       "       [ 8958],\n",
       "       [ 1350],\n",
       "       [   69],\n",
       "       [ 5256],\n",
       "       [ 1414],\n",
       "       [  604],\n",
       "       [ 2925],\n",
       "       [  826],\n",
       "       [ 3281],\n",
       "       [ 6735],\n",
       "       [ 5256],\n",
       "       [ 3281],\n",
       "       [  421],\n",
       "       [ 5836],\n",
       "       [   88],\n",
       "       [ 3055],\n",
       "       [ 9405],\n",
       "       [ 7086],\n",
       "       [ 2130],\n",
       "       [ 5836],\n",
       "       [ 6231],\n",
       "       [ 2047],\n",
       "       [ 6238],\n",
       "       [  212],\n",
       "       [ 8958],\n",
       "       [ 1350],\n",
       "       [  689],\n",
       "       [ 2340],\n",
       "       [   39],\n",
       "       [ 2130],\n",
       "       [ 1414],\n",
       "       [ 8089],\n",
       "       [ 8707],\n",
       "       [ 1771],\n",
       "       [ 2925],\n",
       "       [ 8958],\n",
       "       [ 1350],\n",
       "       [ 6735],\n",
       "       [   69],\n",
       "       [ 1414],\n",
       "       [ 2925],\n",
       "       [  604],\n",
       "       [  826],\n",
       "       [ 6735],\n",
       "       [  421],\n",
       "       [ 2780],\n",
       "       [  421],\n",
       "       [ 2780],\n",
       "       [   88],\n",
       "       [ 3055],\n",
       "       [  603],\n",
       "       [ 9405],\n",
       "       [ 1565],\n",
       "       [ 7086],\n",
       "       [ 7539],\n",
       "       [  400],\n",
       "       [   88],\n",
       "       [ 3055],\n",
       "       [10373],\n",
       "       [ 2047],\n",
       "       [  212],\n",
       "       [  689],\n",
       "       [ 2340],\n",
       "       [ 9405],\n",
       "       [ 1274],\n",
       "       [   39],\n",
       "       [ 7086],\n",
       "       [ 2047],\n",
       "       [  212],\n",
       "       [  689],\n",
       "       [ 2340],\n",
       "       [ 4310],\n",
       "       [   39],\n",
       "       [ 3890],\n",
       "       [   69],\n",
       "       [ 3724],\n",
       "       [  473],\n",
       "       [ 6238],\n",
       "       [  604],\n",
       "       [  826],\n",
       "       [ 4466],\n",
       "       [   69],\n",
       "       [ 6291],\n",
       "       [ 8089],\n",
       "       [  604],\n",
       "       [ 2226],\n",
       "       [  826],\n",
       "       [ 2393],\n",
       "       [ 4827],\n",
       "       [ 6913],\n",
       "       [ 3787],\n",
       "       [ 7517],\n",
       "       [ 9624],\n",
       "       [ 2664],\n",
       "       [ 2880],\n",
       "       [ 5617],\n",
       "       [ 9887],\n",
       "       [ 1449],\n",
       "       [  462],\n",
       "       [  536],\n",
       "       [10570],\n",
       "       [ 3858],\n",
       "       [ 6231],\n",
       "       [ 2620],\n",
       "       [  603],\n",
       "       [ 6238],\n",
       "       [ 3129],\n",
       "       [ 1565],\n",
       "       [ 6231],\n",
       "       [ 7539],\n",
       "       [ 8089],\n",
       "       [ 1771],\n",
       "       [ 6238],\n",
       "       [10373],\n",
       "       [ 2393],\n",
       "       [ 8089],\n",
       "       [ 1771],\n",
       "       [ 5019],\n",
       "       [ 1667],\n",
       "       [ 2393],\n",
       "       [ 2664],\n",
       "       [ 4310],\n",
       "       [ 6671],\n",
       "       [ 1449],\n",
       "       [  462],\n",
       "       [ 3724],\n",
       "       [  536],\n",
       "       [ 2286],\n",
       "       [  473],\n",
       "       [ 2664],\n",
       "       [  603],\n",
       "       [ 3129],\n",
       "       [ 8687],\n",
       "       [ 1449],\n",
       "       [  462],\n",
       "       [ 1565],\n",
       "       [ 5820],\n",
       "       [ 7539],\n",
       "       [  400],\n",
       "       [  603],\n",
       "       [10373],\n",
       "       [ 3129],\n",
       "       [ 7641],\n",
       "       [ 8687],\n",
       "       [ 2226],\n",
       "       [ 1565],\n",
       "       [ 1274],\n",
       "       [ 7539],\n",
       "       [  400],\n",
       "       [ 5019],\n",
       "       [ 1667],\n",
       "       [   23],\n",
       "       [10373],\n",
       "       [  690],\n",
       "       [ 2260],\n",
       "       [ 1136],\n",
       "       [ 1274],\n",
       "       [ 4310],\n",
       "       [ 5019],\n",
       "       [ 1667],\n",
       "       [ 6671],\n",
       "       [   23],\n",
       "       [ 4827],\n",
       "       [ 4254],\n",
       "       [ 3724],\n",
       "       [ 2286],\n",
       "       [  473],\n",
       "       [10146],\n",
       "       [ 6913],\n",
       "       [ 4310],\n",
       "       [ 5496],\n",
       "       [ 6671],\n",
       "       [ 3787],\n",
       "       [ 3724],\n",
       "       [ 4466],\n",
       "       [ 2286],\n",
       "       [ 5820],\n",
       "       [  473],\n",
       "       [ 6291],\n",
       "       [ 2226],\n",
       "       [ 4466],\n",
       "       [ 2880],\n",
       "       [ 5820],\n",
       "       [ 5682],\n",
       "       [ 6291],\n",
       "       [11651],\n",
       "       [  690],\n",
       "       [ 7641],\n",
       "       [ 2260],\n",
       "       [ 2226],\n",
       "       [ 4827],\n",
       "       [10570],\n",
       "       [ 4254],\n",
       "       [  690],\n",
       "       [ 2260],\n",
       "       [ 2746],\n",
       "       [10146],\n",
       "       [ 6913],\n",
       "       [  302],\n",
       "       [ 5496],\n",
       "       [ 4827],\n",
       "       [ 2364],\n",
       "       [ 3787],\n",
       "       [ 1415],\n",
       "       [ 4254],\n",
       "       [ 7517],\n",
       "       [ 9624],\n",
       "       [10146],\n",
       "       [ 6913],\n",
       "       [  302],\n",
       "       [ 5496],\n",
       "       [ 2880],\n",
       "       [ 3787],\n",
       "       [ 5682],\n",
       "       [ 7517],\n",
       "       [11651],\n",
       "       [ 9624],\n",
       "       [ 5617],\n",
       "       [ 9887],\n",
       "       [10570],\n",
       "       [ 3858],\n",
       "       [ 2880],\n",
       "       [ 5682],\n",
       "       [ 2746],\n",
       "       [ 8222],\n",
       "       [11651],\n",
       "       [ 2620],\n",
       "       [ 5617],\n",
       "       [ 9887],\n",
       "       [10469],\n",
       "       [ 7892],\n",
       "       [ 1506],\n",
       "       [ 2773],\n",
       "       [ 9488],\n",
       "       [ 2364],\n",
       "       [ 1415],\n",
       "       [10570],\n",
       "       [ 3858],\n",
       "       [ 2746],\n",
       "       [ 8222],\n",
       "       [ 2620],\n",
       "       [10469],\n",
       "       [ 2773],\n",
       "       [ 9488],\n",
       "       [ 2364],\n",
       "       [ 1415],\n",
       "       [  699],\n",
       "       [ 7892],\n",
       "       [ 1506],\n",
       "       [ 6625],\n",
       "       [  699],\n",
       "       [ 7892],\n",
       "       [ 1506],\n",
       "       [ 9145],\n",
       "       [ 6625],\n",
       "       [11929],\n",
       "       [ 9145]], dtype=int64)"
      ]
     },
     "execution_count": 43,
     "metadata": {},
     "output_type": "execute_result"
    }
   ],
   "source": [
    "# Assign the data to X and y\n",
    "\n",
    "### BEGIN SOLUTION\n",
    "X = data[\"hotness rank\"].values.reshape(-1, 1)\n",
    "y = data[\"price\"].values.reshape(-1, 1)\n",
    "\n",
    "### END SOLUTION\n",
    "print(\"Shape: \", X.shape, y.shape)\n",
    "X"
   ]
  },
  {
   "cell_type": "code",
   "execution_count": 44,
   "metadata": {
    "nbgrader": {
     "grade": false,
     "grade_id": "cell-9042a62fdddc21ba",
     "locked": false,
     "schema_version": 1,
     "solution": true
    }
   },
   "outputs": [
    {
     "data": {
      "text/plain": [
       "<matplotlib.collections.PathCollection at 0x1c63a93acc0>"
      ]
     },
     "execution_count": 44,
     "metadata": {},
     "output_type": "execute_result"
    },
    {
     "data": {
      "image/png": "[encoded data removed]",
      "text/plain": [
       "<matplotlib.figure.Figure at 0x1c63a8926a0>"
      ]
     },
     "metadata": {},
     "output_type": "display_data"
    }
   ],
   "source": [
    "# Plot the data\n",
    "plt.scatter(X, y)\n"
   ]
  },
  {
   "cell_type": "code",
   "execution_count": 45,
   "metadata": {
    "collapsed": true,
    "nbgrader": {
     "grade": false,
     "grade_id": "cell-c28431477001b4ca",
     "locked": false,
     "schema_version": 1,
     "solution": true
    }
   },
   "outputs": [],
   "source": [
    "# Create the model and fit the model to the data\n",
    "\n",
    "from sklearn.linear_model import LinearRegression\n",
    "\n",
    "### BEGIN SOLUTION\n",
    "\n",
    "model = LinearRegression()\n",
    "\n",
    "### END SOLUTION"
   ]
  },
  {
   "cell_type": "code",
   "execution_count": 46,
   "metadata": {
    "nbgrader": {
     "grade": false,
     "grade_id": "cell-cf45418a342b12fd",
     "locked": false,
     "schema_version": 1,
     "solution": true
    }
   },
   "outputs": [
    {
     "data": {
      "text/plain": [
       "LinearRegression(copy_X=True, fit_intercept=True, n_jobs=1, normalize=False)"
      ]
     },
     "execution_count": 46,
     "metadata": {},
     "output_type": "execute_result"
    }
   ],
   "source": [
    "# Fit the model to the data. \n",
    "# Note: This is the training step where you fit the line to the data.\n",
    "\n",
    "### BEGIN SOLUTION\n",
    "\n",
    "model.fit(X, y)\n",
    "\n",
    "### END SOLUTION"
   ]
  },
  {
   "cell_type": "code",
   "execution_count": 47,
   "metadata": {
    "nbgrader": {
     "grade": false,
     "grade_id": "cell-546fc1044e2e1c77",
     "locked": false,
     "schema_version": 1,
     "solution": true
    }
   },
   "outputs": [
    {
     "name": "stdout",
     "output_type": "stream",
     "text": [
      "Weight coefficients:  [[-0.33460988]]\n",
      "y-axis intercept:  [ 235979.07617085]\n"
     ]
    }
   ],
   "source": [
    "# Print the coefficient and the intercept for the model\n",
    "\n",
    "### BEGIN SOLUTION\n",
    "print('Weight coefficients: ', model.coef_)\n",
    "print('y-axis intercept: ', model.intercept_)\n",
    "### END SOLUTION"
   ]
  },
  {
   "cell_type": "code",
   "execution_count": 48,
   "metadata": {},
   "outputs": [
    {
     "name": "stdout",
     "output_type": "stream",
     "text": [
      "Min X Value: [[23]]\n",
      "Max X Value: [[11929]]\n"
     ]
    }
   ],
   "source": [
    "# Note: we have to transform our min and max values \n",
    "# so they are in the format: array([[ 0.04]])\n",
    "# This is the required format for `model.predict()`\n",
    "\n",
    "x_min = np.array([[X.min()]])\n",
    "x_max = np.array([[X.max()]])\n",
    "print(f\"Min X Value: {x_min}\")\n",
    "print(f\"Max X Value: {x_max}\")"
   ]
  },
  {
   "cell_type": "code",
   "execution_count": 49,
   "metadata": {
    "collapsed": true,
    "nbgrader": {
     "grade": false,
     "grade_id": "cell-5314a52e13fd4e63",
     "locked": false,
     "schema_version": 1,
     "solution": true
    }
   },
   "outputs": [],
   "source": [
    "# Calculate the y_min and y_max using model.predict and x_min and x_max\n",
    "\n",
    "### BEGIN SOLUTION\n",
    "y_min = model.predict(x_min)\n",
    "y_max = model.predict(x_max)\n",
    "### END SOLUTION"
   ]
  },
  {
   "cell_type": "code",
   "execution_count": 50,
   "metadata": {
    "nbgrader": {
     "grade": false,
     "grade_id": "cell-63f9d27c8f668bfa",
     "locked": false,
     "schema_version": 1,
     "solution": true
    }
   },
   "outputs": [
    {
     "data": {
      "text/plain": [
       "[<matplotlib.lines.Line2D at 0x1c63a945eb8>]"
      ]
     },
     "execution_count": 50,
     "metadata": {},
     "output_type": "execute_result"
    },
    {
     "data": {
      "image/png": "[encoded data removed]",
      "text/plain": [
       "<matplotlib.figure.Figure at 0x1c63a9454a8>"
      ]
     },
     "metadata": {},
     "output_type": "display_data"
    }
   ],
   "source": [
    "# Plot X and y using plt.scatter\n",
    "# Plot the model fit line using [x_min[0], x_max[0]], [y_min[0], y_max[0]]\n",
    "\n",
    "### BEGIN SOLUTION\n",
    "plt.scatter(X, y, c='blue')\n",
    "plt.plot([x_min[0], x_max[0]], [y_min[0], y_max[0]], c='red')\n",
    "### END SOLUTION"
   ]
  },
  {
   "cell_type": "code",
   "execution_count": 51,
   "metadata": {},
   "outputs": [
    {
     "name": "stdout",
     "output_type": "stream",
     "text": [
      "Mean Squared Error (MSE): 18878444142.39661\n",
      "R-squared (R2 ): 5.696873322980078e-05\n"
     ]
    }
   ],
   "source": [
    "# Calculate the mean_squared_error and the r-squared score\n",
    "\n",
    "from sklearn.metrics import mean_squared_error, r2_score\n",
    "\n",
    "### BEGIN SOLUTION\n",
    "\n",
    "# Use our model to make predictions\n",
    "predicted = model.predict(X)\n",
    "\n",
    "# Score the predictions with mse and r2\n",
    "mse = mean_squared_error(y, predicted)\n",
    "r2 = r2_score(y, predicted)\n",
    "\n",
    "print(f\"Mean Squared Error (MSE): {mse}\")\n",
    "print(f\"R-squared (R2 ): {r2}\")\n",
    "\n",
    "### END SOLUTION"
   ]
  },
  {
   "cell_type": "code",
   "execution_count": null,
   "metadata": {
    "collapsed": true
   },
   "outputs": [],
   "source": []
  },
  {
   "cell_type": "code",
   "execution_count": null,
   "metadata": {
    "collapsed": true
   },
   "outputs": [],
   "source": []
  }
 ],
 "metadata": {
  "anaconda-cloud": {},
  "celltoolbar": "Create Assignment",
  "kernelspec": {
   "display_name": "Python [default]",
   "language": "python",
   "name": "python3"
  },
  "language_info": {
   "codemirror_mode": {
    "name": "ipython",
    "version": 3
   },
   "file_extension": ".py",
   "mimetype": "text/x-python",
   "name": "python",
   "nbconvert_exporter": "python",
   "pygments_lexer": "ipython3",
   "version": "3.6.3"
  },
  "varInspector": {
   "cols": {
    "lenName": 16,
    "lenType": 16,
    "lenVar": 40
   },
   "kernels_config": {
    "python": {
     "delete_cmd_postfix": "",
     "delete_cmd_prefix": "del ",
     "library": "var_list.py",
     "varRefreshCmd": "print(var_dic_list())"
    },
    "r": {
     "delete_cmd_postfix": ") ",
     "delete_cmd_prefix": "rm(",
     "library": "var_list.r",
     "varRefreshCmd": "cat(var_dic_list()) "
    }
   },
   "types_to_exclude": [
    "module",
    "function",
    "builtin_function_or_method",
    "instance",
    "_Feature"
   ],
   "window_display": false
  }
 },
 "nbformat": 4,
 "nbformat_minor": 2
}
